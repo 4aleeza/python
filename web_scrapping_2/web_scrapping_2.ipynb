{
 "cells": [
  {
   "cell_type": "code",
   "execution_count": 1,
   "id": "dfad7d36-3a9d-4186-9baf-f0faf9d14185",
   "metadata": {},
   "outputs": [],
   "source": [
    "from bs4 import BeautifulSoup\n"
   ]
  },
  {
   "cell_type": "code",
   "execution_count": 2,
   "id": "4687434e-ec04-4cd5-924e-0e729c68dae1",
   "metadata": {},
   "outputs": [],
   "source": [
    "with open(\"index2.html\",\"r\") as f:\n",
    "    doc=BeautifulSoup(f,\"html.parser\")"
   ]
  },
  {
   "cell_type": "code",
   "execution_count": 3,
   "id": "88b831c7-d5c5-4728-835b-16d28ff2a68f",
   "metadata": {},
   "outputs": [
    {
     "name": "stdout",
     "output_type": "stream",
     "text": [
      "<!DOCTYPE html>\n",
      "<html>\n",
      " <head>\n",
      "  <title>\n",
      "   Educational registration form\n",
      "  </title>\n",
      "  <link crossorigin=\"anonymous\" href=\"https://use.fontawesome.com/releases/v5.4.1/css/all.css\" integrity=\"sha384-5sAR7xN1Nv6T6+dT2mhtzEpVJvfS3NScPQTrOxhwjIuvcA67KV2R5Jz6kr4abQsz\" rel=\"stylesheet\"/>\n",
      "  <link href=\"https://fonts.googleapis.com/css?family=Roboto:300,400,500,700\" rel=\"stylesheet\"/>\n",
      "  <style>\n",
      "   html, body {\n",
      "      min-height: 100%;\n",
      "      }\n",
      "      body, div, form, input, select, p { \n",
      "      padding: 0;\n",
      "      margin: 0;\n",
      "      outline: none;\n",
      "      font-family: Roboto, Arial, sans-serif;\n",
      "      font-size: 16px;\n",
      "      color: #eee;\n",
      "      }\n",
      "      body {\n",
      "      background: url(\"/uploads/media/default/0001/01/b5edc1bad4dc8c20291c8394527cb2c5b43ee13c.jpeg\") no-repeat center;\n",
      "      background-size: cover;\n",
      "      }\n",
      "      h1, h2 {\n",
      "      text-transform: uppercase;\n",
      "      font-weight: 400;\n",
      "      }\n",
      "      h2 {\n",
      "      margin: 0 0 0 8px;\n",
      "      }\n",
      "      .main-block {\n",
      "      display: flex;\n",
      "      flex-direction: column;\n",
      "      justify-content: center;\n",
      "      align-items: center;\n",
      "      height: 100%;\n",
      "      padding: 25px;\n",
      "      background: rgba(0, 0, 0, 0.5); \n",
      "      }\n",
      "      .left-part, form {\n",
      "      padding: 25px;\n",
      "      }\n",
      "      .left-part {\n",
      "      text-align: center;\n",
      "      }\n",
      "      .fa-graduation-cap {\n",
      "      font-size: 72px;\n",
      "      }\n",
      "      form {\n",
      "      background: rgba(0, 0, 0, 0.7); \n",
      "      }\n",
      "      .title {\n",
      "      display: flex;\n",
      "      align-items: center;\n",
      "      margin-bottom: 20px;\n",
      "      }\n",
      "      .info {\n",
      "      display: flex;\n",
      "      flex-direction: column;\n",
      "      }\n",
      "      input, select {\n",
      "      padding: 5px;\n",
      "      margin-bottom: 30px;\n",
      "      background: transparent;\n",
      "      border: none;\n",
      "      border-bottom: 1px solid #eee;\n",
      "      }\n",
      "      input::placeholder {\n",
      "      color: #eee;\n",
      "      }\n",
      "      option:focus {\n",
      "      border: none;\n",
      "      }\n",
      "      option {\n",
      "      background: black; \n",
      "      border: none;\n",
      "      }\n",
      "      .checkbox input {\n",
      "      margin: 0 10px 0 0;\n",
      "      vertical-align: middle;\n",
      "      }\n",
      "      .checkbox a {\n",
      "      color: #26a9e0;\n",
      "      }\n",
      "      .checkbox a:hover {\n",
      "      color: #85d6de;\n",
      "      }\n",
      "      .btn-item, button {\n",
      "      padding: 10px 5px;\n",
      "      margin-top: 20px;\n",
      "      border-radius: 5px; \n",
      "      border: none;\n",
      "      background: #26a9e0; \n",
      "      text-decoration: none;\n",
      "      font-size: 15px;\n",
      "      font-weight: 400;\n",
      "      color: #fff;\n",
      "      }\n",
      "      .btn-item {\n",
      "      display: inline-block;\n",
      "      margin: 20px 5px 0;\n",
      "      }\n",
      "      button {\n",
      "      width: 100%;\n",
      "      }\n",
      "      button:hover, .btn-item:hover {\n",
      "      background: #85d6de;\n",
      "      }\n",
      "      @media (min-width: 568px) {\n",
      "      html, body {\n",
      "      height: 100%;\n",
      "      }\n",
      "      .main-block {\n",
      "      flex-direction: row;\n",
      "      height: calc(100% - 50px);\n",
      "      }\n",
      "      .left-part, form {\n",
      "      flex: 1;\n",
      "      height: auto;\n",
      "      }\n",
      "      }\n",
      "  </style>\n",
      " </head>\n",
      " <body>\n",
      "  <div class=\"main-block\">\n",
      "   <div class=\"left-part\">\n",
      "    <i class=\"fas fa-graduation-cap\">\n",
      "    </i>\n",
      "    <h1>\n",
      "     Register to our courses\n",
      "    </h1>\n",
      "    <p>\n",
      "     W3docs provides free learning materials for programming languages like HTML, CSS, Java Script, PHP etc.\n",
      "    </p>\n",
      "    <div class=\"btn-group\">\n",
      "     <a class=\"btn-item\" href=\"https://www.w3docs.com/learn-html.html\">\n",
      "      Learn HTML\n",
      "     </a>\n",
      "     <a class=\"btn-item\" href=\"https://www.w3docs.com/quiz/#\">\n",
      "      Select Quiz\n",
      "     </a>\n",
      "    </div>\n",
      "    $2345\n",
      "   </div>\n",
      "   <form action=\"/\">\n",
      "    <div class=\"title\">\n",
      "     <i class=\"fas fa-pencil-alt\">\n",
      "     </i>\n",
      "     <h2>\n",
      "      Register here\n",
      "     </h2>\n",
      "    </div>\n",
      "    $123\n",
      "    <div class=\"info\">\n",
      "     <input class=\"fname\" name=\"name\" placeholder=\"Full name\" type=\"text\"/>\n",
      "     <input name=\"name\" placeholder=\"Email\" type=\"text\"/>\n",
      "     <input name=\"name\" placeholder=\"Phone number\" type=\"text\"/>\n",
      "     <input name=\"name\" placeholder=\"Password\" type=\"password\"/>\n",
      "     <select>\n",
      "      <option selected=\"\" value=\"course-type\">\n",
      "       Course type*\n",
      "      </option>\n",
      "      <option value=\"short-courses\">\n",
      "       Short courses\n",
      "      </option>\n",
      "      <option value=\"featured-courses\">\n",
      "       Featured courses\n",
      "      </option>\n",
      "      <option value=\"undergraduate\">\n",
      "       Undergraduate\n",
      "      </option>\n",
      "      <option value=\"diploma\">\n",
      "       Diploma\n",
      "      </option>\n",
      "      <option value=\"certificate\">\n",
      "       Certificate\n",
      "      </option>\n",
      "      <option value=\"masters-degree\">\n",
      "       Masters degree\n",
      "      </option>\n",
      "      <option value=\"postgraduate\">\n",
      "       Postgraduate\n",
      "      </option>\n",
      "     </select>\n",
      "    </div>\n",
      "    <div class=\"checkbox\">\n",
      "     <input name=\"checkbox\" type=\"checkbox\"/>\n",
      "     <span>\n",
      "      I agree to the\n",
      "      <a href=\"https://www.w3docs.com/privacy-policy\">\n",
      "       Privacy Poalicy for W3Docs.\n",
      "      </a>\n",
      "     </span>\n",
      "    </div>\n",
      "    <button href=\"/\" type=\"submit\">\n",
      "     Submit\n",
      "    </button>\n",
      "   </form>\n",
      "  </div>\n",
      " </body>\n",
      "</html>\n",
      "\n"
     ]
    }
   ],
   "source": [
    "print(doc.prettify())"
   ]
  },
  {
   "cell_type": "code",
   "execution_count": 4,
   "id": "07aca46f-02a1-45dd-b9da-e533631b67d0",
   "metadata": {},
   "outputs": [],
   "source": [
    "tag = doc.find('option')"
   ]
  },
  {
   "cell_type": "code",
   "execution_count": 5,
   "id": "d00696bc-da7d-4017-be53-a4dbb4ad0311",
   "metadata": {},
   "outputs": [
    {
     "data": {
      "text/plain": [
       "<option selected=\"\" value=\"course-type\">Course type*</option>"
      ]
     },
     "execution_count": 5,
     "metadata": {},
     "output_type": "execute_result"
    }
   ],
   "source": [
    "tag"
   ]
  },
  {
   "cell_type": "code",
   "execution_count": 6,
   "id": "675b387a-c6bb-4ab8-868a-b22633b6d495",
   "metadata": {},
   "outputs": [
    {
     "name": "stdout",
     "output_type": "stream",
     "text": [
      "<option selected=\"\" value=\"new-value\">Course type*</option>\n"
     ]
    }
   ],
   "source": [
    "#to modify a certain tag we could access it like a dictionary\n",
    "tag['value'] = 'new-value'\n",
    "print(tag)"
   ]
  },
  {
   "cell_type": "code",
   "execution_count": 7,
   "id": "24e2dd42-65f6-4401-a6b4-3995ac291f64",
   "metadata": {},
   "outputs": [
    {
     "data": {
      "text/plain": [
       "<option selected=\"true\" value=\"new-value\">Course type*</option>"
      ]
     },
     "execution_count": 7,
     "metadata": {},
     "output_type": "execute_result"
    }
   ],
   "source": [
    "tag['selected']='true'\n",
    "tag"
   ]
  },
  {
   "cell_type": "code",
   "execution_count": 8,
   "id": "bbc129f5-a8a2-4a26-9c5a-4f048b773dac",
   "metadata": {},
   "outputs": [
    {
     "data": {
      "text/plain": [
       "<option course-duration=\"2-hrs\" selected=\"true\" value=\"new-value\">Course type*</option>"
      ]
     },
     "execution_count": 8,
     "metadata": {},
     "output_type": "execute_result"
    }
   ],
   "source": [
    "#to add an attribute\n",
    "tag['course-duration']=['2-hrs']\n",
    "tag"
   ]
  },
  {
   "cell_type": "code",
   "execution_count": 9,
   "id": "a92673d7-c0ff-4a0f-b0b8-a6b32317d93d",
   "metadata": {},
   "outputs": [
    {
     "name": "stdout",
     "output_type": "stream",
     "text": [
      "{'value': 'new-value', 'selected': 'true', 'course-duration': ['2-hrs']}\n"
     ]
    }
   ],
   "source": [
    "#to print attributes in a dictionary format\n",
    "print(tag.attrs)"
   ]
  },
  {
   "cell_type": "code",
   "execution_count": 10,
   "id": "2214e8d8-1f6b-48a5-9f47-e7e88301fc32",
   "metadata": {},
   "outputs": [],
   "source": [
    "#to find first occurences of multiple tags\n",
    "tags_first_occur = doc.find(['p','li','div'])"
   ]
  },
  {
   "cell_type": "code",
   "execution_count": 11,
   "id": "82ec4227-f9f5-40a0-acb5-0bb765442bc6",
   "metadata": {},
   "outputs": [
    {
     "data": {
      "text/plain": [
       "<div class=\"main-block\">\n",
       "<div class=\"left-part\">\n",
       "<i class=\"fas fa-graduation-cap\"></i>\n",
       "<h1>Register to our courses</h1>\n",
       "<p>W3docs provides free learning materials for programming languages like HTML, CSS, Java Script, PHP etc.</p>\n",
       "<div class=\"btn-group\">\n",
       "<a class=\"btn-item\" href=\"https://www.w3docs.com/learn-html.html\">Learn HTML</a>\n",
       "<a class=\"btn-item\" href=\"https://www.w3docs.com/quiz/#\">Select Quiz</a>\n",
       "</div>\n",
       "        $2345\n",
       "      </div>\n",
       "<form action=\"/\">\n",
       "<div class=\"title\">\n",
       "<i class=\"fas fa-pencil-alt\"></i>\n",
       "<h2>Register here</h2>\n",
       "</div>\n",
       "        $123\n",
       "        <div class=\"info\">\n",
       "<input class=\"fname\" name=\"name\" placeholder=\"Full name\" type=\"text\"/>\n",
       "<input name=\"name\" placeholder=\"Email\" type=\"text\"/>\n",
       "<input name=\"name\" placeholder=\"Phone number\" type=\"text\"/>\n",
       "<input name=\"name\" placeholder=\"Password\" type=\"password\"/>\n",
       "<select>\n",
       "<option course-duration=\"2-hrs\" selected=\"true\" value=\"new-value\">Course type*</option>\n",
       "<option value=\"short-courses\">Short courses</option>\n",
       "<option value=\"featured-courses\">Featured courses</option>\n",
       "<option value=\"undergraduate\">Undergraduate</option>\n",
       "<option value=\"diploma\">Diploma</option>\n",
       "<option value=\"certificate\">Certificate</option>\n",
       "<option value=\"masters-degree\">Masters degree</option>\n",
       "<option value=\"postgraduate\">Postgraduate</option>\n",
       "</select>\n",
       "</div>\n",
       "<div class=\"checkbox\">\n",
       "<input name=\"checkbox\" type=\"checkbox\"/><span>I agree to the <a href=\"https://www.w3docs.com/privacy-policy\">Privacy Poalicy for W3Docs.</a></span>\n",
       "</div>\n",
       "<button href=\"/\" type=\"submit\">Submit</button>\n",
       "</form>\n",
       "</div>"
      ]
     },
     "execution_count": 11,
     "metadata": {},
     "output_type": "execute_result"
    }
   ],
   "source": [
    "tags_first_occur"
   ]
  },
  {
   "cell_type": "code",
   "execution_count": 12,
   "id": "d1c2ff07-9e3a-4cd0-b029-3adc6f20d314",
   "metadata": {},
   "outputs": [
    {
     "data": {
      "text/plain": [
       "[<div class=\"main-block\">\n",
       " <div class=\"left-part\">\n",
       " <i class=\"fas fa-graduation-cap\"></i>\n",
       " <h1>Register to our courses</h1>\n",
       " <p>W3docs provides free learning materials for programming languages like HTML, CSS, Java Script, PHP etc.</p>\n",
       " <div class=\"btn-group\">\n",
       " <a class=\"btn-item\" href=\"https://www.w3docs.com/learn-html.html\">Learn HTML</a>\n",
       " <a class=\"btn-item\" href=\"https://www.w3docs.com/quiz/#\">Select Quiz</a>\n",
       " </div>\n",
       "         $2345\n",
       "       </div>\n",
       " <form action=\"/\">\n",
       " <div class=\"title\">\n",
       " <i class=\"fas fa-pencil-alt\"></i>\n",
       " <h2>Register here</h2>\n",
       " </div>\n",
       "         $123\n",
       "         <div class=\"info\">\n",
       " <input class=\"fname\" name=\"name\" placeholder=\"Full name\" type=\"text\"/>\n",
       " <input name=\"name\" placeholder=\"Email\" type=\"text\"/>\n",
       " <input name=\"name\" placeholder=\"Phone number\" type=\"text\"/>\n",
       " <input name=\"name\" placeholder=\"Password\" type=\"password\"/>\n",
       " <select>\n",
       " <option course-duration=\"2-hrs\" selected=\"true\" value=\"new-value\">Course type*</option>\n",
       " <option value=\"short-courses\">Short courses</option>\n",
       " <option value=\"featured-courses\">Featured courses</option>\n",
       " <option value=\"undergraduate\">Undergraduate</option>\n",
       " <option value=\"diploma\">Diploma</option>\n",
       " <option value=\"certificate\">Certificate</option>\n",
       " <option value=\"masters-degree\">Masters degree</option>\n",
       " <option value=\"postgraduate\">Postgraduate</option>\n",
       " </select>\n",
       " </div>\n",
       " <div class=\"checkbox\">\n",
       " <input name=\"checkbox\" type=\"checkbox\"/><span>I agree to the <a href=\"https://www.w3docs.com/privacy-policy\">Privacy Poalicy for W3Docs.</a></span>\n",
       " </div>\n",
       " <button href=\"/\" type=\"submit\">Submit</button>\n",
       " </form>\n",
       " </div>,\n",
       " <div class=\"left-part\">\n",
       " <i class=\"fas fa-graduation-cap\"></i>\n",
       " <h1>Register to our courses</h1>\n",
       " <p>W3docs provides free learning materials for programming languages like HTML, CSS, Java Script, PHP etc.</p>\n",
       " <div class=\"btn-group\">\n",
       " <a class=\"btn-item\" href=\"https://www.w3docs.com/learn-html.html\">Learn HTML</a>\n",
       " <a class=\"btn-item\" href=\"https://www.w3docs.com/quiz/#\">Select Quiz</a>\n",
       " </div>\n",
       "         $2345\n",
       "       </div>,\n",
       " <p>W3docs provides free learning materials for programming languages like HTML, CSS, Java Script, PHP etc.</p>,\n",
       " <div class=\"btn-group\">\n",
       " <a class=\"btn-item\" href=\"https://www.w3docs.com/learn-html.html\">Learn HTML</a>\n",
       " <a class=\"btn-item\" href=\"https://www.w3docs.com/quiz/#\">Select Quiz</a>\n",
       " </div>,\n",
       " <div class=\"title\">\n",
       " <i class=\"fas fa-pencil-alt\"></i>\n",
       " <h2>Register here</h2>\n",
       " </div>,\n",
       " <div class=\"info\">\n",
       " <input class=\"fname\" name=\"name\" placeholder=\"Full name\" type=\"text\"/>\n",
       " <input name=\"name\" placeholder=\"Email\" type=\"text\"/>\n",
       " <input name=\"name\" placeholder=\"Phone number\" type=\"text\"/>\n",
       " <input name=\"name\" placeholder=\"Password\" type=\"password\"/>\n",
       " <select>\n",
       " <option course-duration=\"2-hrs\" selected=\"true\" value=\"new-value\">Course type*</option>\n",
       " <option value=\"short-courses\">Short courses</option>\n",
       " <option value=\"featured-courses\">Featured courses</option>\n",
       " <option value=\"undergraduate\">Undergraduate</option>\n",
       " <option value=\"diploma\">Diploma</option>\n",
       " <option value=\"certificate\">Certificate</option>\n",
       " <option value=\"masters-degree\">Masters degree</option>\n",
       " <option value=\"postgraduate\">Postgraduate</option>\n",
       " </select>\n",
       " </div>,\n",
       " <div class=\"checkbox\">\n",
       " <input name=\"checkbox\" type=\"checkbox\"/><span>I agree to the <a href=\"https://www.w3docs.com/privacy-policy\">Privacy Poalicy for W3Docs.</a></span>\n",
       " </div>]"
      ]
     },
     "execution_count": 12,
     "metadata": {},
     "output_type": "execute_result"
    }
   ],
   "source": [
    "#to find all occurances\n",
    "tags_all = doc.find_all(['div', 'p', 'li'])\n",
    "tags_all"
   ]
  },
  {
   "cell_type": "code",
   "execution_count": 16,
   "id": "0159ca27-e052-4590-a7d0-c3a0d83acba9",
   "metadata": {},
   "outputs": [
    {
     "data": {
      "text/plain": [
       "[<option value=\"undergraduate\">Undergraduate</option>]"
      ]
     },
     "execution_count": 16,
     "metadata": {},
     "output_type": "execute_result"
    }
   ],
   "source": [
    "#to look for a certain text under a certain tag\n",
    "text1 = doc.find_all(['option'],string='Undergraduate')\n",
    "text1"
   ]
  },
  {
   "cell_type": "code",
   "execution_count": 17,
   "id": "c0d0d822-b16b-46d3-b089-16325476768c",
   "metadata": {},
   "outputs": [],
   "source": [
    "text2 = doc.find_all(['a'])"
   ]
  },
  {
   "cell_type": "code",
   "execution_count": 18,
   "id": "7dc90249-b9ad-45fe-99c3-f680b8318170",
   "metadata": {},
   "outputs": [
    {
     "data": {
      "text/plain": [
       "[<a class=\"btn-item\" href=\"https://www.w3docs.com/learn-html.html\">Learn HTML</a>,\n",
       " <a class=\"btn-item\" href=\"https://www.w3docs.com/quiz/#\">Select Quiz</a>,\n",
       " <a href=\"https://www.w3docs.com/privacy-policy\">Privacy Poalicy for W3Docs.</a>]"
      ]
     },
     "execution_count": 18,
     "metadata": {},
     "output_type": "execute_result"
    }
   ],
   "source": [
    "text2"
   ]
  },
  {
   "cell_type": "code",
   "execution_count": 19,
   "id": "6e6a780e-4e34-4ec1-92bb-9902bc5f9744",
   "metadata": {},
   "outputs": [
    {
     "data": {
      "text/plain": [
       "[<a class=\"btn-item\" href=\"https://www.w3docs.com/learn-html.html\">Learn HTML</a>,\n",
       " <a class=\"btn-item\" href=\"https://www.w3docs.com/quiz/#\">Select Quiz</a>]"
      ]
     },
     "execution_count": 19,
     "metadata": {},
     "output_type": "execute_result"
    }
   ],
   "source": [
    "#to search for a class name\n",
    "btns_ = doc.find_all(class_ = \"btn-item\") #to get items under this class\n",
    "btns_"
   ]
  },
  {
   "cell_type": "code",
   "execution_count": 20,
   "id": "87c793f5-8767-406d-9b0e-f679966bd3af",
   "metadata": {},
   "outputs": [],
   "source": [
    "import re"
   ]
  },
  {
   "cell_type": "code",
   "execution_count": 23,
   "id": "15f47325-b8d5-4cae-92b7-8198ffc34209",
   "metadata": {},
   "outputs": [
    {
     "name": "stderr",
     "output_type": "stream",
     "text": [
      "<>:2: SyntaxWarning: invalid escape sequence '\\$'\n",
      "<>:2: SyntaxWarning: invalid escape sequence '\\$'\n",
      "C:\\Users\\Aleeza\\AppData\\Local\\Temp\\ipykernel_1588\\38216818.py:2: SyntaxWarning: invalid escape sequence '\\$'\n",
      "  dollars = doc.find_all(text=re.compile('\\$.'))\n",
      "C:\\Users\\Aleeza\\AppData\\Local\\Temp\\ipykernel_1588\\38216818.py:2: DeprecationWarning: The 'text' argument to find()-type methods is deprecated. Use 'string' instead.\n",
      "  dollars = doc.find_all(text=re.compile('\\$.'))\n"
     ]
    },
    {
     "data": {
      "text/plain": [
       "['\\n        $2345\\n      ', '\\n        $123\\n        ']"
      ]
     },
     "execution_count": 23,
     "metadata": {},
     "output_type": "execute_result"
    }
   ],
   "source": [
    "#to look up text including and after dollar sign\n",
    "dollars = doc.find_all(text=re.compile('\\$.'))\n",
    "dollars"
   ]
  },
  {
   "cell_type": "code",
   "execution_count": 26,
   "id": "1cd6a866-d45e-4e47-b4b5-fd7ce7d1cac3",
   "metadata": {},
   "outputs": [],
   "source": [
    "#to modify the html and save changes\n",
    "tags = doc.find_all('input',type='text')\n",
    "for tag in tags:\n",
    "    tag['placeholder'] = \"modified\""
   ]
  },
  {
   "cell_type": "code",
   "execution_count": 27,
   "id": "ca5e1e70-d34d-4eb0-91bb-923ee56f29b0",
   "metadata": {},
   "outputs": [],
   "source": [
    "with open(\"changed.html\",\"w\")  as file:\n",
    "    file.write(str(doc))"
   ]
  },
  {
   "cell_type": "code",
   "execution_count": null,
   "id": "8fc1aefb-bc70-487e-8228-fe4deed30b98",
   "metadata": {},
   "outputs": [],
   "source": []
  }
 ],
 "metadata": {
  "kernelspec": {
   "display_name": "Python 3 (ipykernel)",
   "language": "python",
   "name": "python3"
  },
  "language_info": {
   "codemirror_mode": {
    "name": "ipython",
    "version": 3
   },
   "file_extension": ".py",
   "mimetype": "text/x-python",
   "name": "python",
   "nbconvert_exporter": "python",
   "pygments_lexer": "ipython3",
   "version": "3.13.2"
  }
 },
 "nbformat": 4,
 "nbformat_minor": 5
}
